{
 "cells": [
  {
   "cell_type": "code",
   "execution_count": 3,
   "metadata": {
    "collapsed": true
   },
   "outputs": [],
   "source": [
    "import numpy as np"
   ]
  },
  {
   "cell_type": "code",
   "execution_count": 2,
   "metadata": {
    "collapsed": true
   },
   "outputs": [],
   "source": [
    "import matplotlib.pyplot as plt"
   ]
  },
  {
   "cell_type": "code",
   "execution_count": 15,
   "metadata": {
    "collapsed": false
   },
   "outputs": [],
   "source": [
    "x = np.linspace(0, 100, 100)\n",
    "def f(a, b, c):\n",
    "    y = ((a*(x**2)) + (b*x) + c )\n",
    "    return y\n"
   ]
  },
  {
   "cell_type": "code",
   "execution_count": 16,
   "metadata": {
    "collapsed": false
   },
   "outputs": [
    {
     "data": {
      "text/plain": [
       "[<matplotlib.lines.Line2D at 0x22132ce2a58>]"
      ]
     },
     "execution_count": 16,
     "metadata": {},
     "output_type": "execute_result"
    }
   ],
   "source": [
    "plt.plot(x, f(1, 2, 3))"
   ]
  },
  {
   "cell_type": "code",
   "execution_count": 18,
   "metadata": {
    "collapsed": false
   },
   "outputs": [
    {
     "name": "stdout",
     "output_type": "stream",
     "text": [
      "[  3.00000000e+00   6.04050607e+00   1.11216202e+01   1.82433425e+01\n",
      "   2.74056729e+01   3.86086114e+01   5.18521579e+01   6.71363126e+01\n",
      "   8.44610754e+01   1.03826446e+02   1.25232425e+02   1.48679012e+02\n",
      "   1.74166208e+02   2.01694011e+02   2.31262422e+02   2.62871442e+02\n",
      "   2.96521069e+02   3.32211305e+02   3.69942149e+02   4.09713601e+02\n",
      "   4.51525661e+02   4.95378329e+02   5.41271605e+02   5.89205489e+02\n",
      "   6.39179982e+02   6.91195082e+02   7.45250791e+02   8.01347107e+02\n",
      "   8.59484032e+02   9.19661565e+02   9.81879706e+02   1.04613846e+03\n",
      "   1.11243781e+03   1.18077778e+03   1.25115835e+03   1.32357953e+03\n",
      "   1.39804132e+03   1.47454372e+03   1.55308673e+03   1.63367034e+03\n",
      "   1.71629456e+03   1.80095939e+03   1.88766483e+03   1.97641088e+03\n",
      "   2.06719753e+03   2.16002479e+03   2.25489266e+03   2.35180114e+03\n",
      "   2.45075023e+03   2.55173992e+03   2.65477023e+03   2.75984114e+03\n",
      "   2.86695266e+03   2.97610479e+03   3.08729752e+03   3.20053086e+03\n",
      "   3.31580482e+03   3.43311938e+03   3.55247454e+03   3.67387032e+03\n",
      "   3.79730670e+03   3.92278370e+03   4.05030130e+03   4.17985950e+03\n",
      "   4.31145832e+03   4.44509775e+03   4.58077778e+03   4.71849842e+03\n",
      "   4.85825967e+03   5.00006152e+03   5.14390399e+03   5.28978706e+03\n",
      "   5.43771074e+03   5.58767503e+03   5.73967993e+03   5.89372544e+03\n",
      "   6.04981155e+03   6.20793827e+03   6.36810560e+03   6.53031354e+03\n",
      "   6.69456209e+03   6.86085124e+03   7.02918100e+03   7.19955137e+03\n",
      "   7.37196235e+03   7.54641394e+03   7.72290613e+03   7.90143893e+03\n",
      "   8.08201235e+03   8.26462636e+03   8.44928099e+03   8.63597623e+03\n",
      "   8.82471207e+03   9.01548852e+03   9.20830558e+03   9.40316325e+03\n",
      "   9.60006152e+03   9.79900041e+03   9.99997990e+03   1.02030000e+04]\n"
     ]
    }
   ],
   "source": [
    "print(f(1, 2, 3))"
   ]
  },
  {
   "cell_type": "code",
   "execution_count": 29,
   "metadata": {
    "collapsed": false
   },
   "outputs": [
    {
     "name": "stdout",
     "output_type": "stream",
     "text": [
      "10\n"
     ]
    }
   ],
   "source": [
    "array1 = [1, 2, 3, 4, 5]\n",
    "array2 = [-1, 0, 1, 2, 3]\n",
    "array3 = []\n",
    "for i in range (0, len(array1)):\n",
    "    array3.append(array1[i] - array2[i])\n",
    "total = 0\n",
    "for i in range (0, len(array3)):\n",
    "    total += array3[i]\n",
    "print(total)\n"
   ]
  },
  {
   "cell_type": "code",
   "execution_count": 21,
   "metadata": {
    "collapsed": false
   },
   "outputs": [
    {
     "name": "stdout",
     "output_type": "stream",
     "text": [
      "Help on class list in module builtins:\n",
      "\n",
      "class list(object)\n",
      " |  list() -> new empty list\n",
      " |  list(iterable) -> new list initialized from iterable's items\n",
      " |  \n",
      " |  Methods defined here:\n",
      " |  \n",
      " |  __add__(self, value, /)\n",
      " |      Return self+value.\n",
      " |  \n",
      " |  __contains__(self, key, /)\n",
      " |      Return key in self.\n",
      " |  \n",
      " |  __delitem__(self, key, /)\n",
      " |      Delete self[key].\n",
      " |  \n",
      " |  __eq__(self, value, /)\n",
      " |      Return self==value.\n",
      " |  \n",
      " |  __ge__(self, value, /)\n",
      " |      Return self>=value.\n",
      " |  \n",
      " |  __getattribute__(self, name, /)\n",
      " |      Return getattr(self, name).\n",
      " |  \n",
      " |  __getitem__(...)\n",
      " |      x.__getitem__(y) <==> x[y]\n",
      " |  \n",
      " |  __gt__(self, value, /)\n",
      " |      Return self>value.\n",
      " |  \n",
      " |  __iadd__(self, value, /)\n",
      " |      Implement self+=value.\n",
      " |  \n",
      " |  __imul__(self, value, /)\n",
      " |      Implement self*=value.\n",
      " |  \n",
      " |  __init__(self, /, *args, **kwargs)\n",
      " |      Initialize self.  See help(type(self)) for accurate signature.\n",
      " |  \n",
      " |  __iter__(self, /)\n",
      " |      Implement iter(self).\n",
      " |  \n",
      " |  __le__(self, value, /)\n",
      " |      Return self<=value.\n",
      " |  \n",
      " |  __len__(self, /)\n",
      " |      Return len(self).\n",
      " |  \n",
      " |  __lt__(self, value, /)\n",
      " |      Return self<value.\n",
      " |  \n",
      " |  __mul__(self, value, /)\n",
      " |      Return self*value.n\n",
      " |  \n",
      " |  __ne__(self, value, /)\n",
      " |      Return self!=value.\n",
      " |  \n",
      " |  __new__(*args, **kwargs) from builtins.type\n",
      " |      Create and return a new object.  See help(type) for accurate signature.\n",
      " |  \n",
      " |  __repr__(self, /)\n",
      " |      Return repr(self).\n",
      " |  \n",
      " |  __reversed__(...)\n",
      " |      L.__reversed__() -- return a reverse iterator over the list\n",
      " |  \n",
      " |  __rmul__(self, value, /)\n",
      " |      Return self*value.\n",
      " |  \n",
      " |  __setitem__(self, key, value, /)\n",
      " |      Set self[key] to value.\n",
      " |  \n",
      " |  __sizeof__(...)\n",
      " |      L.__sizeof__() -- size of L in memory, in bytes\n",
      " |  \n",
      " |  append(...)\n",
      " |      L.append(object) -> None -- append object to end\n",
      " |  \n",
      " |  clear(...)\n",
      " |      L.clear() -> None -- remove all items from L\n",
      " |  \n",
      " |  copy(...)\n",
      " |      L.copy() -> list -- a shallow copy of L\n",
      " |  \n",
      " |  count(...)\n",
      " |      L.count(value) -> integer -- return number of occurrences of value\n",
      " |  \n",
      " |  extend(...)\n",
      " |      L.extend(iterable) -> None -- extend list by appending elements from the iterable\n",
      " |  \n",
      " |  index(...)\n",
      " |      L.index(value, [start, [stop]]) -> integer -- return first index of value.\n",
      " |      Raises ValueError if the value is not present.\n",
      " |  \n",
      " |  insert(...)\n",
      " |      L.insert(index, object) -- insert object before index\n",
      " |  \n",
      " |  pop(...)\n",
      " |      L.pop([index]) -> item -- remove and return item at index (default last).\n",
      " |      Raises IndexError if list is empty or index is out of range.\n",
      " |  \n",
      " |  remove(...)\n",
      " |      L.remove(value) -> None -- remove first occurrence of value.\n",
      " |      Raises ValueError if the value is not present.\n",
      " |  \n",
      " |  reverse(...)\n",
      " |      L.reverse() -- reverse *IN PLACE*\n",
      " |  \n",
      " |  sort(...)\n",
      " |      L.sort(key=None, reverse=False) -> None -- stable sort *IN PLACE*\n",
      " |  \n",
      " |  ----------------------------------------------------------------------\n",
      " |  Data and other attributes defined here:\n",
      " |  \n",
      " |  __hash__ = None\n",
      "\n"
     ]
    }
   ],
   "source": [
    "help(list)"
   ]
  },
  {
   "cell_type": "code",
   "execution_count": 64,
   "metadata": {
    "collapsed": false
   },
   "outputs": [],
   "source": [
    "def sumofdifference(first_array, second_array):\n",
    "    if len(first_array) == len(second_array):\n",
    "        total = sum(first_array - second_array)\n",
    "        return total\n",
    "    else:\n",
    "        print(\"Arrays are not of the same length\")"
   ]
  },
  {
   "cell_type": "code",
   "execution_count": 48,
   "metadata": {
    "collapsed": false
   },
   "outputs": [
    {
     "name": "stdout",
     "output_type": "stream",
     "text": [
      "-2\n"
     ]
    }
   ],
   "source": [
    "v = [0, 8, 3, 6, 2, 3]\n",
    "w = [19, 1, -3, 3, 4, 0]\n",
    "t = sumofdifference(v, w)\n",
    "print(t)"
   ]
  },
  {
   "cell_type": "code",
   "execution_count": 51,
   "metadata": {
    "collapsed": false
   },
   "outputs": [
    {
     "name": "stdout",
     "output_type": "stream",
     "text": [
      "-100.0\n"
     ]
    }
   ],
   "source": [
    "function1 = f(2, 2, 2)\n",
    "function2 = f(2, 2, 3)\n",
    "print(sumofdifference(function1, function2))\n"
   ]
  },
  {
   "cell_type": "code",
   "execution_count": 66,
   "metadata": {
    "collapsed": false
   },
   "outputs": [],
   "source": [
    "def test():\n",
    "    list1 = f(2, 2, 2)\n",
    "    list2 = f(2, 2, 3)\n",
    "    check1 = sumofdifference(list1, list1)\n",
    "    check2 = sumofdifference(list1, list2)\n",
    "    check3 = sumofdifference(list2, list1)\n",
    "    if (check1 == 0.0) and (check2 == -100.0) and (check3 == 100.0):\n",
    "        return True\n",
    "    else:\n",
    "        return False"
   ]
  },
  {
   "cell_type": "code",
   "execution_count": 67,
   "metadata": {
    "collapsed": false
   },
   "outputs": [
    {
     "data": {
      "text/plain": [
       "True"
      ]
     },
     "execution_count": 67,
     "metadata": {},
     "output_type": "execute_result"
    }
   ],
   "source": [
    "test()"
   ]
  },
  {
   "cell_type": "code",
   "execution_count": 63,
   "metadata": {
    "collapsed": false
   },
   "outputs": [
    {
     "name": "stdout",
     "output_type": "stream",
     "text": [
      "Help on built-in function sum in module builtins:\n",
      "\n",
      "sum(iterable, start=0, /)\n",
      "    Return the sum of a 'start' value (default: 0) plus an iterable of numbers\n",
      "    \n",
      "    When the iterable is empty, return the start value.\n",
      "    This function is intended specifically for use with numeric values and may\n",
      "    reject non-numeric types.\n",
      "\n"
     ]
    }
   ],
   "source": [
    "help(sum)"
   ]
  },
  {
   "cell_type": "code",
   "execution_count": null,
   "metadata": {
    "collapsed": true
   },
   "outputs": [],
   "source": []
  }
 ],
 "metadata": {
  "anaconda-cloud": {},
  "kernelspec": {
   "display_name": "Python [Root]",
   "language": "python",
   "name": "Python [Root]"
  },
  "language_info": {
   "codemirror_mode": {
    "name": "ipython",
    "version": 3
   },
   "file_extension": ".py",
   "mimetype": "text/x-python",
   "name": "python",
   "nbconvert_exporter": "python",
   "pygments_lexer": "ipython3",
   "version": "3.5.2"
  }
 },
 "nbformat": 4,
 "nbformat_minor": 0
}
